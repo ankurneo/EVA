{
  "nbformat": 4,
  "nbformat_minor": 0,
  "metadata": {
    "colab": {
      "provenance": []
    },
    "kernelspec": {
      "name": "python3",
      "display_name": "Python 3"
    },
    "accelerator": "GPU"
  },
  "cells": [
    {
      "cell_type": "markdown",
      "source": [
        "**Write a custom ResNet architecture for CIFAR10 that has the following architecture:**\n",
        "\n",
        "**PrepLayer - Conv 3x3 s1, p1) >> BN >> RELU [64k]**\n",
        "\n",
        "**Layer1 -\n",
        "X = Conv 3x3 (s1, p1) >> MaxPool2D >> BN >> RELU [128k]\n",
        "R1 = ResBlock( (Conv-BN-ReLU-Conv-BN-ReLU))(X) [128k] \n",
        "Add(X, R1)**\n",
        "\n",
        "**Layer 2 -\n",
        "Conv 3x3 [256k]\n",
        "MaxPooling2D\n",
        "BN\n",
        "ReLU**\n",
        "\n",
        "**Layer 3 -\n",
        "X = Conv 3x3 (s1, p1) >> MaxPool2D >> BN >> RELU [512k]\n",
        "R2 = ResBlock( (Conv-BN-ReLU-Conv-BN-ReLU))(X) [512k]\n",
        "Add(X, R2)**\n",
        "\n",
        "**MaxPooling with Kernel Size 4**\n",
        "\n",
        "**FC Layer**\n",
        "\n",
        "**SoftMax**\n",
        "\n",
        "**Uses One Cycle Policy such that:\n",
        "\n",
        "Total Epochs = 24\n",
        "\n",
        "Max at Epoch = 5\n",
        "\n",
        "LRMIN = FIND\n",
        "\n",
        "LRMAX = FIND\n",
        "\n",
        "NO Annihilation\n",
        "\n",
        "Uses this transform -RandomCrop 32, 32 (after padding of 4) >> FlipLR >> Followed by CutOut(8, 8)\n",
        "\n",
        "Batch size = 512**"
      ],
      "metadata": {
        "id": "eVcnzz81SOcx"
      }
    },
    {
      "cell_type": "markdown",
      "metadata": {
        "id": "aO-7t1Y7-hV4"
      },
      "source": [
        "# Import Libraries"
      ]
    },
    {
      "cell_type": "code",
      "metadata": {
        "id": "8kH16rnZ7wt_",
        "colab": {
          "base_uri": "https://localhost:8080/"
        },
        "outputId": "21b94e10-25d9-42ac-b51d-4b2559bba613"
      },
      "source": [
        "from __future__ import print_function\n",
        "import torch\n",
        "import torch.nn as nn\n",
        "import torch.nn.functional as F\n",
        "import torch.optim as optim\n",
        "import torchvision\n",
        "from torchvision import datasets, transforms\n",
        "import albumentations as A\n",
        "from albumentations.pytorch import ToTensorV2\n",
        "import numpy as np \n",
        "from models.resnet import *\n",
        "from utils import *\n",
        "from main import *\n",
        "from onecycle import *\n",
        "!pip install torchsummary\n",
        "from torchsummary import summary"
      ],
      "execution_count": 1,
      "outputs": [
        {
          "output_type": "stream",
          "name": "stdout",
          "text": [
            "Looking in indexes: https://pypi.org/simple, https://us-python.pkg.dev/colab-wheels/public/simple/\n",
            "Requirement already satisfied: torchsummary in /usr/local/lib/python3.8/dist-packages (1.5.1)\n"
          ]
        }
      ]
    },
    {
      "cell_type": "markdown",
      "source": [
        "**Loading test and train datasets & dataloader**"
      ],
      "metadata": {
        "id": "YyCi2ieaMr1v"
      }
    },
    {
      "cell_type": "markdown",
      "source": [],
      "metadata": {
        "id": "ZNqBnCw2MmlW"
      }
    },
    {
      "cell_type": "code",
      "source": [
        "# Loading test and train data & dataloader\n",
        "cifar10 = dataset_cifar10(batch_size=512)\n",
        "\n",
        "trainset = cifar10.data(train_flag=True)\n",
        "\n",
        "testset =  cifar10.data(train_flag=False)\n",
        "# load Train dataloader\n",
        "trainloader = cifar10.loader(train_flag=True)\n",
        "\n",
        "# Load Test dataloader\n",
        "testloader = cifar10.loader(train_flag=False)\n",
        "\n",
        "# Get all the classes\n",
        "classes = cifar10.classes\n"
      ],
      "metadata": {
        "id": "_ZDdaj3HIEgp",
        "colab": {
          "base_uri": "https://localhost:8080/"
        },
        "outputId": "1d5fc969-3d57-42ec-d248-d667aaa32111"
      },
      "execution_count": 2,
      "outputs": [
        {
          "output_type": "stream",
          "name": "stdout",
          "text": [
            "CUDA availability ? True\n",
            "Files already downloaded and verified\n",
            "Files already downloaded and verified\n",
            "Files already downloaded and verified\n",
            "Files already downloaded and verified\n"
          ]
        }
      ]
    },
    {
      "cell_type": "markdown",
      "source": [
        "Import Model"
      ],
      "metadata": {
        "id": "-nvWoioYrcDw"
      }
    },
    {
      "cell_type": "code",
      "source": [
        "# Loading ResNet18 Model\n",
        "model = ResNet()\n",
        "# Using cuda if available\n",
        "use_cuda = torch.cuda.is_available()\n",
        "device = torch.device(\"cuda\" if use_cuda else \"cpu\")\n",
        "print(device)\n",
        "# Sending network to device\n",
        "model = model.to(device)\n",
        "summary(model, input_size=(3, 32, 32))"
      ],
      "metadata": {
        "id": "E3dMl9xcR7R2",
        "colab": {
          "base_uri": "https://localhost:8080/"
        },
        "outputId": "ea39935b-112e-4f5f-c0ca-da7b472ea47f"
      },
      "execution_count": 3,
      "outputs": [
        {
          "output_type": "stream",
          "name": "stdout",
          "text": [
            "cuda\n",
            "----------------------------------------------------------------\n",
            "        Layer (type)               Output Shape         Param #\n",
            "================================================================\n",
            "            Conv2d-1           [-1, 64, 32, 32]           1,728\n",
            "       BatchNorm2d-2           [-1, 64, 32, 32]             128\n",
            "              ReLU-3           [-1, 64, 32, 32]               0\n",
            "            Conv2d-4          [-1, 128, 32, 32]          73,728\n",
            "         MaxPool2d-5          [-1, 128, 16, 16]               0\n",
            "       BatchNorm2d-6          [-1, 128, 16, 16]             256\n",
            "              ReLU-7          [-1, 128, 16, 16]               0\n",
            "            Conv2d-8          [-1, 128, 16, 16]         147,456\n",
            "       BatchNorm2d-9          [-1, 128, 16, 16]             256\n",
            "             ReLU-10          [-1, 128, 16, 16]               0\n",
            "           Conv2d-11          [-1, 128, 16, 16]         147,456\n",
            "      BatchNorm2d-12          [-1, 128, 16, 16]             256\n",
            "             ReLU-13          [-1, 128, 16, 16]               0\n",
            "         ResBlock-14          [-1, 128, 16, 16]               0\n",
            "           Conv2d-15          [-1, 256, 16, 16]         294,912\n",
            "        MaxPool2d-16            [-1, 256, 8, 8]               0\n",
            "      BatchNorm2d-17            [-1, 256, 8, 8]             512\n",
            "             ReLU-18            [-1, 256, 8, 8]               0\n",
            "           Conv2d-19            [-1, 512, 8, 8]       1,179,648\n",
            "        MaxPool2d-20            [-1, 512, 4, 4]               0\n",
            "      BatchNorm2d-21            [-1, 512, 4, 4]           1,024\n",
            "             ReLU-22            [-1, 512, 4, 4]               0\n",
            "           Conv2d-23            [-1, 512, 4, 4]       2,359,296\n",
            "      BatchNorm2d-24            [-1, 512, 4, 4]           1,024\n",
            "             ReLU-25            [-1, 512, 4, 4]               0\n",
            "           Conv2d-26            [-1, 512, 4, 4]       2,359,296\n",
            "      BatchNorm2d-27            [-1, 512, 4, 4]           1,024\n",
            "             ReLU-28            [-1, 512, 4, 4]               0\n",
            "         ResBlock-29            [-1, 512, 4, 4]               0\n",
            "        MaxPool2d-30            [-1, 512, 1, 1]               0\n",
            "           Linear-31                   [-1, 10]           5,130\n",
            "================================================================\n",
            "Total params: 6,573,130\n",
            "Trainable params: 6,573,130\n",
            "Non-trainable params: 0\n",
            "----------------------------------------------------------------\n",
            "Input size (MB): 0.01\n",
            "Forward/backward pass size (MB): 6.75\n",
            "Params size (MB): 25.07\n",
            "Estimated Total Size (MB): 31.84\n",
            "----------------------------------------------------------------\n"
          ]
        }
      ]
    },
    {
      "cell_type": "markdown",
      "metadata": {
        "id": "M3-vp8X9LCWo"
      },
      "source": [
        "#Creating instance of all the 3 Models by passing Normalization Type as a Parameter"
      ]
    },
    {
      "cell_type": "code",
      "source": [
        "from clr import *\n",
        "criterion = nn.CrossEntropyLoss()\n",
        "optimizer = optim.SGD(model.parameters(), lr=0.001, momentum=0.9)\n",
        "clr = CLR(optimizer, len(trainloader),1e-5,10)\n",
        "calculate_lr(model , optimizer, trainloader , criterion, clr, device)\n",
        "clr.plot()"
      ],
      "metadata": {
        "id": "9a74xTWYS7XL",
        "colab": {
          "base_uri": "https://localhost:8080/",
          "height": 283
        },
        "outputId": "6c547446-0ba7-4222-d936-5147accd1fee"
      },
      "execution_count": 4,
      "outputs": [
        {
          "output_type": "stream",
          "name": "stderr",
          "text": []
        },
        {
          "output_type": "display_data",
          "data": {
            "text/plain": [
              "<Figure size 432x288 with 1 Axes>"
            ],
            "image/png": "[encoded data removed]"
          },
          "metadata": {
            "needs_background": "light"
          }
        }
      ]
    },
    {
      "cell_type": "markdown",
      "source": [
        "# Calling the Model with 24 Epochs"
      ],
      "metadata": {
        "id": "dvT-IxCJpX3N"
      }
    },
    {
      "cell_type": "code",
      "source": [
        "from torch.optim.lr_scheduler import OneCycleLR\n",
        "\n",
        "EPOCHS = 24\n",
        "bs = 512\n",
        "torch.autograd.set_detect_anomaly(True)\n",
        "model =  ResNet().to(device)\n",
        "criterion = nn.CrossEntropyLoss()\n",
        "optimizer = optim.SGD(model.parameters(), lr=0.077, momentum=0.9)\n",
        "l1reg = False\n",
        "# calculate the total number of steps\n",
        "total_steps = len(trainloader) * 24\n",
        "\n",
        "# calculate the step size for the first 5 epochs\n",
        "step_size_up = len(trainloader) * 5\n",
        "scheduler = OneCycleLR(optimizer, max_lr=0.077, total_steps=total_steps, pct_start=step_size_up/total_steps, anneal_strategy='cos', cycle_momentum=False)\n",
        "\n",
        "train_loss, test_loss, train_acc, test_acc , test_pred, target_pred, target_data = main(EPOCHS, model, device, trainloader, testloader, optimizer, criterion, scheduler, l1reg)\n"
      ],
      "metadata": {
        "colab": {
          "base_uri": "https://localhost:8080/"
        },
        "id": "CkCZw25xpcei",
        "outputId": "4462213c-07bd-4368-c9ef-6ba988ccc093"
      },
      "execution_count": 7,
      "outputs": [
        {
          "output_type": "stream",
          "name": "stdout",
          "text": [
            "\n",
            "Epoch 0 : \n",
            "Train set: Average loss: 1.4403, Accuracy: 41.00\n",
            "\n",
            "Test set: Average loss: 0.004, Accuracy: 41.30\n",
            "\n",
            "Epoch 1 : \n",
            "Train set: Average loss: 1.2742, Accuracy: 48.88\n",
            "\n",
            "Test set: Average loss: 0.003, Accuracy: 53.71\n",
            "\n",
            "Epoch 2 : \n",
            "Train set: Average loss: 1.3152, Accuracy: 60.43\n",
            "\n",
            "Test set: Average loss: 0.002, Accuracy: 61.22\n",
            "\n",
            "Epoch 3 : \n",
            "Train set: Average loss: 0.8507, Accuracy: 63.69\n",
            "\n",
            "Test set: Average loss: 0.002, Accuracy: 71.81\n",
            "\n",
            "Epoch 4 : \n",
            "Train set: Average loss: 0.8564, Accuracy: 73.83\n",
            "\n",
            "Test set: Average loss: 0.001, Accuracy: 76.79\n",
            "\n",
            "Epoch 5 : \n",
            "Train set: Average loss: 0.7402, Accuracy: 77.91\n",
            "\n",
            "Test set: Average loss: 0.002, Accuracy: 75.58\n",
            "\n",
            "Epoch 6 : \n",
            "Train set: Average loss: 0.4352, Accuracy: 80.57\n",
            "\n",
            "Test set: Average loss: 0.001, Accuracy: 81.34\n",
            "\n",
            "Epoch 7 : \n",
            "Train set: Average loss: 0.3789, Accuracy: 83.87\n",
            "\n",
            "Test set: Average loss: 0.001, Accuracy: 82.24\n",
            "\n",
            "Epoch 8 : \n",
            "Train set: Average loss: 0.2953, Accuracy: 86.83\n",
            "\n",
            "Test set: Average loss: 0.001, Accuracy: 85.68\n",
            "\n",
            "Epoch 9 : \n",
            "Train set: Average loss: 0.2981, Accuracy: 89.23\n",
            "\n",
            "Test set: Average loss: 0.001, Accuracy: 84.72\n",
            "\n",
            "Epoch 10 : \n",
            "Train set: Average loss: 0.2272, Accuracy: 90.51\n",
            "\n",
            "Test set: Average loss: 0.001, Accuracy: 85.78\n",
            "\n",
            "Epoch 11 : \n",
            "Train set: Average loss: 0.2021, Accuracy: 92.28\n",
            "\n",
            "Test set: Average loss: 0.001, Accuracy: 86.94\n",
            "\n",
            "Epoch 12 : \n",
            "Train set: Average loss: 0.1481, Accuracy: 93.19\n",
            "\n",
            "Test set: Average loss: 0.001, Accuracy: 87.48\n",
            "\n",
            "Epoch 13 : \n",
            "Train set: Average loss: 0.2045, Accuracy: 94.48\n",
            "\n",
            "Test set: Average loss: 0.001, Accuracy: 87.24\n",
            "\n",
            "Epoch 14 : \n",
            "Train set: Average loss: 0.1044, Accuracy: 95.62\n",
            "\n",
            "Test set: Average loss: 0.001, Accuracy: 88.64\n",
            "\n",
            "Epoch 15 : \n",
            "Train set: Average loss: 0.1349, Accuracy: 96.51\n",
            "\n",
            "Test set: Average loss: 0.001, Accuracy: 88.62\n",
            "\n",
            "Epoch 16 : \n",
            "Train set: Average loss: 0.0990, Accuracy: 97.26\n",
            "\n",
            "Test set: Average loss: 0.001, Accuracy: 89.00\n",
            "\n",
            "Epoch 17 : \n",
            "Train set: Average loss: 0.0383, Accuracy: 97.57\n",
            "\n",
            "Test set: Average loss: 0.001, Accuracy: 88.98\n",
            "\n",
            "Epoch 18 : \n",
            "Train set: Average loss: 0.0791, Accuracy: 98.01\n",
            "\n",
            "Test set: Average loss: 0.001, Accuracy: 89.42\n",
            "\n",
            "Epoch 19 : \n",
            "Train set: Average loss: 0.0403, Accuracy: 98.29\n",
            "\n",
            "Test set: Average loss: 0.001, Accuracy: 89.38\n",
            "\n",
            "Epoch 20 : \n",
            "Train set: Average loss: 0.0615, Accuracy: 98.42\n",
            "\n",
            "Test set: Average loss: 0.001, Accuracy: 89.69\n",
            "\n",
            "Epoch 21 : \n",
            "\n",
            "Test set: Average loss: 0.001, Accuracy: 89.61\n",
            "\n",
            "Epoch 22 : \n",
            "Train set: Average loss: 0.0519, Accuracy: 98.74\n",
            "\n",
            "Test set: Average loss: 0.001, Accuracy: 89.62\n",
            "\n",
            "Epoch 23 : \n",
            "Train set: Average loss: 0.0207, Accuracy: 98.91\n",
            "\n",
            "Test set: Average loss: 0.001, Accuracy: 89.81\n"
          ]
        }
      ]
    }
  ]
}