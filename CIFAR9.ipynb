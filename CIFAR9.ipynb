{
  "nbformat": 4,
  "nbformat_minor": 0,
  "metadata": {
    "colab": {
      "provenance": []
    },
    "kernelspec": {
      "name": "python3",
      "display_name": "Python 3"
    },
    "accelerator": "GPU"
  },
  "cells": [
    {
      "cell_type": "markdown",
      "source": [
        "    Build the following network:\n",
        "    That takes a CIFAR10 image (32x32x3)\n",
        "\n",
        "    Add 3 Convolutions to arrive at AxAx48 dimensions (e.g. 32x32x3 |    3x3x3x16 >> 3x3x16x32 >> 3x3x32x48)\n",
        "\n",
        "    Apply GAP and get 1x1x48, call this X\n",
        "\n",
        "    Create a block called ULTIMUS that:\n",
        "\n",
        "    Creates 3 FC layers called K, Q and V such that:\n",
        "\n",
        "    X*K = 48*48x8 > 8\n",
        "\n",
        "    X*Q = 48*48x8 > 8 \n",
        "\n",
        "    X*V = 48*48x8 > 8 \n",
        "\n",
        "    then create AM = SoftMax(QTK)/(8^0.5) = 8*8 = 8\n",
        "    then Z = V*AM = 8*8 > 8\n",
        "    then another FC layer called Out that:\n",
        "    Z*Out = 8*8x48 > 48\n",
        "\n",
        "    Repeat this Ultimus block 4 times\n",
        "\n",
        "    Then add final FC layer that converts 48 to 10 and sends it to the loss function.\n",
        "\n",
        "    Model would look like this \n",
        "\n",
        "    C>C>C>U>U>U>U>FFC>Loss\n",
        "\n",
        "    Train the model for 24 epochs using the OCP that I wrote in class. Use ADAM as an optimizer. **"
      ],
      "metadata": {
        "id": "eVcnzz81SOcx"
      }
    },
    {
      "cell_type": "markdown",
      "metadata": {
        "id": "aO-7t1Y7-hV4"
      },
      "source": [
        "# Import Libraries"
      ]
    },
    {
      "cell_type": "code",
      "metadata": {
        "id": "8kH16rnZ7wt_",
        "colab": {
          "base_uri": "https://localhost:8080/"
        },
        "outputId": "429a1e87-3c74-4849-d7b7-21c129f5751b"
      },
      "source": [
        "from __future__ import print_function\n",
        "import torch\n",
        "import torch.nn as nn\n",
        "import torch.nn.functional as F\n",
        "import torch.optim as optim\n",
        "import torchvision\n",
        "from torchvision import datasets, transforms\n",
        "import albumentations as A\n",
        "from albumentations.pytorch import ToTensorV2\n",
        "import numpy as np \n",
        "from models.model import *\n",
        "from utils import *\n",
        "from main import *\n",
        "!pip install torchsummary\n",
        "from torchsummary import summary"
      ],
      "execution_count": 1,
      "outputs": [
        {
          "output_type": "stream",
          "name": "stdout",
          "text": [
            "Looking in indexes: https://pypi.org/simple, https://us-python.pkg.dev/colab-wheels/public/simple/\n",
            "Requirement already satisfied: torchsummary in /usr/local/lib/python3.8/dist-packages (1.5.1)\n"
          ]
        }
      ]
    },
    {
      "cell_type": "markdown",
      "source": [
        "**Loading test and train datasets & dataloader**"
      ],
      "metadata": {
        "id": "YyCi2ieaMr1v"
      }
    },
    {
      "cell_type": "code",
      "source": [
        "# Loading test and train data & dataloader\n",
        "cifar10 = dataset_cifar10(batch_size=512)\n",
        "\n",
        "trainset = cifar10.data(train_flag=True)\n",
        "\n",
        "testset =  cifar10.data(train_flag=False)\n",
        "# load Train dataloader\n",
        "trainloader = cifar10.loader(train_flag=True)\n",
        "\n",
        "# Load Test dataloader\n",
        "testloader = cifar10.loader(train_flag=False)\n",
        "\n",
        "# Get all the classes\n",
        "classes = cifar10.classes\n"
      ],
      "metadata": {
        "id": "_ZDdaj3HIEgp",
        "colab": {
          "base_uri": "https://localhost:8080/"
        },
        "outputId": "2033f656-b702-42c6-802f-2c6b7e3898a5"
      },
      "execution_count": 2,
      "outputs": [
        {
          "output_type": "stream",
          "name": "stdout",
          "text": [
            "CUDA availability ? True\n",
            "Files already downloaded and verified\n",
            "Files already downloaded and verified\n",
            "Files already downloaded and verified\n",
            "Files already downloaded and verified\n"
          ]
        }
      ]
    },
    {
      "cell_type": "markdown",
      "source": [
        "Import Model"
      ],
      "metadata": {
        "id": "-nvWoioYrcDw"
      }
    },
    {
      "cell_type": "code",
      "source": [
        "# Loading ResNet18 Model\n",
        "model = Model()\n",
        "# Using cuda if available\n",
        "use_cuda = torch.cuda.is_available()\n",
        "device = torch.device(\"cuda\" if use_cuda else \"cpu\")\n",
        "print(device)\n",
        "# Sending network to device\n",
        "model = model.to(device)\n",
        "summary(model, input_size=(3, 32, 32))"
      ],
      "metadata": {
        "id": "E3dMl9xcR7R2",
        "colab": {
          "base_uri": "https://localhost:8080/"
        },
        "outputId": "eedb5a64-beb1-483a-b9d5-209c22b3f5ca"
      },
      "execution_count": 3,
      "outputs": [
        {
          "output_type": "stream",
          "name": "stdout",
          "text": [
            "cuda\n",
            "----------------------------------------------------------------\n",
            "        Layer (type)               Output Shape         Param #\n",
            "================================================================\n",
            "            Conv2d-1           [-1, 16, 32, 32]             448\n",
            "            Conv2d-2           [-1, 32, 32, 32]           4,640\n",
            "            Conv2d-3           [-1, 48, 32, 32]          13,872\n",
            " AdaptiveAvgPool2d-4             [-1, 48, 1, 1]               0\n",
            "            Linear-5                    [-1, 8]             392\n",
            "            Linear-6                    [-1, 8]             392\n",
            "            Linear-7                    [-1, 8]             392\n",
            "            Linear-8                   [-1, 48]             432\n",
            "      UltimusBlock-9                   [-1, 48]               0\n",
            "           Linear-10                    [-1, 8]             392\n",
            "           Linear-11                    [-1, 8]             392\n",
            "           Linear-12                    [-1, 8]             392\n",
            "           Linear-13                   [-1, 48]             432\n",
            "     UltimusBlock-14                   [-1, 48]               0\n",
            "           Linear-15                    [-1, 8]             392\n",
            "           Linear-16                    [-1, 8]             392\n",
            "           Linear-17                    [-1, 8]             392\n",
            "           Linear-18                   [-1, 48]             432\n",
            "     UltimusBlock-19                   [-1, 48]               0\n",
            "           Linear-20                    [-1, 8]             392\n",
            "           Linear-21                    [-1, 8]             392\n",
            "           Linear-22                    [-1, 8]             392\n",
            "           Linear-23                   [-1, 48]             432\n",
            "     UltimusBlock-24                   [-1, 48]               0\n",
            "           Linear-25                   [-1, 10]             490\n",
            "================================================================\n",
            "Total params: 25,882\n",
            "Trainable params: 25,882\n",
            "Non-trainable params: 0\n",
            "----------------------------------------------------------------\n",
            "Input size (MB): 0.01\n",
            "Forward/backward pass size (MB): 0.75\n",
            "Params size (MB): 0.10\n",
            "Estimated Total Size (MB): 0.86\n",
            "----------------------------------------------------------------\n"
          ]
        }
      ]
    },
    {
      "cell_type": "markdown",
      "metadata": {
        "id": "M3-vp8X9LCWo"
      },
      "source": [
        "#Define Optimizer, LossCriterion and draw the plot"
      ]
    },
    {
      "cell_type": "code",
      "source": [
        "from clr import *\n",
        "criterion = nn.CrossEntropyLoss()\n",
        "optimizer = optim.Adam(model.parameters(), lr=0.001)\n",
        "clr = CLR(optimizer, len(trainloader),1e-5,10)\n",
        "calculate_lr(model , optimizer, trainloader , criterion, clr, device)\n",
        "clr.plot()"
      ],
      "metadata": {
        "id": "9a74xTWYS7XL",
        "colab": {
          "base_uri": "https://localhost:8080/",
          "height": 283
        },
        "outputId": "2db5a62f-9009-420a-af1e-6886301e07f3"
      },
      "execution_count": 6,
      "outputs": [
        {
          "output_type": "stream",
          "name": "stderr",
          "text": []
        },
        {
          "output_type": "display_data",
          "data": {
            "text/plain": [
              "<Figure size 432x288 with 1 Axes>"
            ],
            "image/png": "[encoded data removed]"
          },
          "metadata": {
            "needs_background": "light"
          }
        }
      ]
    },
    {
      "cell_type": "markdown",
      "source": [
        "# Calling the Model with 24 Epochs"
      ],
      "metadata": {
        "id": "dvT-IxCJpX3N"
      }
    },
    {
      "cell_type": "code",
      "source": [
        "from torch.optim.lr_scheduler import OneCycleLR\n",
        "\n",
        "EPOCHS = 24\n",
        "bs = 512\n",
        "torch.autograd.set_detect_anomaly(True)\n",
        "model =  Model().to(device)\n",
        "criterion = nn.CrossEntropyLoss()\n",
        "optimizer = optim.Adam(model.parameters(), lr=0.001)\n",
        "l1reg = False\n",
        "# calculate the total number of steps\n",
        "total_steps = len(trainloader) * 24\n",
        "\n",
        "# calculate the step size for the first 5 epochs\n",
        "step_size_up = len(trainloader) * 5\n",
        "scheduler = OneCycleLR(optimizer, max_lr=0.077, total_steps=total_steps, pct_start=step_size_up/total_steps, anneal_strategy='cos', cycle_momentum=False)\n",
        "\n",
        "train_loss, test_loss, train_acc, test_acc , test_pred, target_pred, target_data = main(EPOCHS, model, device, trainloader, testloader, optimizer, criterion,scheduler,l1reg)"
      ],
      "metadata": {
        "colab": {
          "base_uri": "https://localhost:8080/"
        },
        "id": "CkCZw25xpcei",
        "outputId": "542ed13c-75d3-48a7-aaf0-3f4d6d8ec8e5"
      },
      "execution_count": 7,
      "outputs": [
        {
          "output_type": "stream",
          "name": "stdout",
          "text": [
            "\n",
            "Epoch 0 : \n",
            "Train set: Average loss: 2.3020, Accuracy: 13.16\n",
            "\n",
            "Test set: Average loss: 0.005, Accuracy: 10.00\n",
            "\n",
            "Epoch 1 : \n",
            "Train set: Average loss: 2.3049, Accuracy: 10.63\n",
            "\n",
            "Test set: Average loss: 0.005, Accuracy: 10.00\n",
            "\n",
            "Epoch 2 : \n",
            "Train set: Average loss: 2.3163, Accuracy: 9.95\n",
            "\n",
            "Test set: Average loss: 0.005, Accuracy: 10.00\n",
            "\n",
            "Epoch 3 : \n",
            "Train set: Average loss: 56678.2969, Accuracy: 10.07\n",
            "\n",
            "Test set: Average loss: 368.239, Accuracy: 10.00\n",
            "\n",
            "Epoch 4 : \n",
            "Train set: Average loss: 65302.3750, Accuracy: 10.02\n",
            "\n",
            "Test set: Average loss: 884.942, Accuracy: 10.00\n",
            "\n",
            "Epoch 5 : \n",
            "Train set: Average loss: 1764.8209, Accuracy: 9.93\n",
            "\n",
            "Test set: Average loss: 17.722, Accuracy: 10.00\n",
            "\n",
            "Epoch 6 : \n",
            "Train set: Average loss: 23000.9414, Accuracy: 10.06\n",
            "\n",
            "Test set: Average loss: 12.444, Accuracy: 10.00\n",
            "\n",
            "Epoch 7 : \n",
            "Train set: Average loss: 538.4319, Accuracy: 9.99\n",
            "\n",
            "Test set: Average loss: 1.217, Accuracy: 10.00\n",
            "\n",
            "Epoch 8 : \n",
            "Train set: Average loss: 64.2081, Accuracy: 9.79\n",
            "\n",
            "Test set: Average loss: 0.209, Accuracy: 10.00\n",
            "\n",
            "Epoch 9 : \n",
            "Train set: Average loss: 11.8270, Accuracy: 9.96\n",
            "\n",
            "Test set: Average loss: 0.096, Accuracy: 10.00\n",
            "\n",
            "Epoch 10 : \n",
            "Train set: Average loss: 7.6269, Accuracy: 9.84\n",
            "\n",
            "Test set: Average loss: 0.020, Accuracy: 10.00\n",
            "\n",
            "Epoch 11 : \n",
            "Train set: Average loss: 6.4092, Accuracy: 9.85\n",
            "\n",
            "Test set: Average loss: 0.014, Accuracy: 10.00\n",
            "\n",
            "Epoch 12 : \n",
            "Train set: Average loss: 8.5962, Accuracy: 9.94\n",
            "\n",
            "Test set: Average loss: 0.024, Accuracy: 10.00\n",
            "\n",
            "Epoch 13 : \n",
            "Train set: Average loss: 8.0253, Accuracy: 9.97\n",
            "\n",
            "Test set: Average loss: 0.021, Accuracy: 10.00\n",
            "\n",
            "Epoch 14 : \n",
            "Train set: Average loss: 8.9160, Accuracy: 9.95\n",
            "\n",
            "Test set: Average loss: 0.022, Accuracy: 10.00\n",
            "\n",
            "Epoch 15 : \n",
            "Train set: Average loss: 3.2180, Accuracy: 10.04\n",
            "\n",
            "Test set: Average loss: 0.009, Accuracy: 10.00\n",
            "\n",
            "Epoch 16 : \n",
            "Train set: Average loss: 3.5376, Accuracy: 9.99\n",
            "\n",
            "Test set: Average loss: 0.010, Accuracy: 10.00\n",
            "\n",
            "Epoch 17 : \n",
            "Train set: Average loss: 2.5492, Accuracy: 9.80\n",
            "\n",
            "Test set: Average loss: 0.005, Accuracy: 10.00\n",
            "\n",
            "Epoch 18 : \n",
            "Train set: Average loss: 2.4133, Accuracy: 10.01\n",
            "\n",
            "Test set: Average loss: 0.005, Accuracy: 10.00\n",
            "\n",
            "Epoch 19 : \n",
            "Train set: Average loss: 2.3110, Accuracy: 10.01\n",
            "\n",
            "Test set: Average loss: 0.005, Accuracy: 10.00\n",
            "\n",
            "Epoch 20 : \n",
            "Train set: Average loss: 2.3217, Accuracy: 9.96\n",
            "\n",
            "Test set: Average loss: 0.005, Accuracy: 10.00\n",
            "\n",
            "Epoch 21 : \n",
            "Train set: Average loss: 2.3014, Accuracy: 9.90\n",
            "\n",
            "Test set: Average loss: 0.005, Accuracy: 10.00\n",
            "\n",
            "Epoch 22 : \n",
            "Train set: Average loss: 2.3024, Accuracy: 9.87\n",
            "\n",
            "Test set: Average loss: 0.005, Accuracy: 10.00\n",
            "\n",
            "Epoch 23 : \n",
            "Train set: Average loss: 2.3029, Accuracy: 10.05\n",
            "\n",
            "Test set: Average loss: 0.005, Accuracy: 10.00\n"
          ]
        }
      ]
    },
    {
      "cell_type": "markdown",
      "source": [
        " Training and Validation loss chart"
      ],
      "metadata": {
        "id": "kh3KG7oYgSor"
      }
    },
    {
      "cell_type": "code",
      "source": [
        "plot_train_vs_test_loss(EPOCHS, train_loss, test_loss)"
      ],
      "metadata": {
        "colab": {
          "base_uri": "https://localhost:8080/",
          "height": 295
        },
        "id": "cYZdNRdDilNu",
        "outputId": "52ebe6a5-26a8-4519-d618-15861d1e41cb"
      },
      "execution_count": 8,
      "outputs": [
        {
          "output_type": "display_data",
          "data": {
            "text/plain": [
              "<Figure size 432x288 with 1 Axes>"
            ],
            "image/png": "[encoded data removed]"
          },
          "metadata": {
            "needs_background": "light"
          }
        }
      ]
    }
  ]
}